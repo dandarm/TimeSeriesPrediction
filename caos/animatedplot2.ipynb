{
 "cells": [
  {
   "cell_type": "code",
   "execution_count": 1,
   "metadata": {},
   "outputs": [
    {
     "name": "stderr",
     "output_type": "stream",
     "text": [
      "Exception in Tkinter callback\n",
      "Traceback (most recent call last):\n",
      "  File \"/home/daniele/miniconda3/envs/tf_base/lib/python3.6/tkinter/__init__.py\", line 1705, in __call__\n",
      "    return self.func(*args)\n",
      "  File \"/home/daniele/miniconda3/envs/tf_base/lib/python3.6/tkinter/__init__.py\", line 749, in callit\n",
      "    func(*args)\n",
      "TypeError: animate() missing 1 required positional argument: 'data'\n"
     ]
    }
   ],
   "source": [
    "import time\n",
    "import numpy as np\n",
    "import matplotlib\n",
    "matplotlib.use('TkAgg') # do this before importing pylab\n",
    "\n",
    "import matplotlib.pyplot as plt\n",
    "fig = plt.figure()\n",
    "ax = fig.add_subplot(111)\n",
    "\n",
    "def animate(data):\n",
    "    tstart = time.time()\n",
    "    im = plt.scatter(*pqarr[i], s=1)\n",
    "    #im=plt.imshow(data)\n",
    "\n",
    "    for i in np.arange(1,200):\n",
    "        data=np.random.randn(10,10)\n",
    "        im.set_data(data)\n",
    "        fig.canvas.draw()                         # redraw the canvas\n",
    "    print ('FPS:' , 200/(time.time()-tstart))\n",
    "\n",
    "win = fig.canvas.manager.window\n",
    "fig.canvas.manager.window.after(100, animate)\n",
    "plt.show()"
   ]
  },
  {
   "cell_type": "code",
   "execution_count": 115,
   "metadata": {},
   "outputs": [
    {
     "data": {
      "text/plain": [
       "<matplotlib.collections.PathCollection at 0x7f83f0692e10>"
      ]
     },
     "execution_count": 115,
     "metadata": {},
     "output_type": "execute_result"
    }
   ],
   "source": [
    "plt.scatter(*pqarr[i], s=1)"
   ]
  },
  {
   "cell_type": "code",
   "execution_count": null,
   "metadata": {},
   "outputs": [],
   "source": [
    "import numpy as np\n",
    "import matplotlib.pyplot as plt \n",
    "import matplotlib.animation as animation\n",
    "\n",
    "\n",
    "# Set up the figure\n",
    "fig = plt.figure(1)\n",
    "# Creat two lines to be updates in the animation. \n",
    "l1, = plt.plot([],[],'r',lw=1.5)\n",
    "l2, = plt.plot([],[],'k',lw=1.5)\n",
    "plt.legend(['Analytical','Bathymetry'], loc='upper center',fancybox=True,prop={'size':12})\n",
    "plt.ylabel('Free Surface [m]',fontsize=12)\n",
    "plt.xlabel('Distance [m]',fontsize=12)\n",
    "plt.axis([-2.5,2.5,-0.2,0.25])\n",
    "plt.title ('Initial conditions for planar surface',fontsize=15)\n",
    "\n",
    "# Initialization function\n",
    "def init():\n",
    "    l1.set_data([], [])\n",
    "    l2.set_data([], [])\n",
    "    return l1,l2\n",
    "\n",
    "# This function is called at each iteration of the animation.     \n",
    "def update(t):\n",
    "    x = np.arange(-3,3,0.1)\n",
    "    x1 = np.arange(-3,3,0.1)\n",
    "\n",
    "    maxfs = 0.1 * np.sin(x * t)\n",
    "    zf1 = 0.1 * np.cos(x * t)\n",
    "\n",
    "    # Update lines with new data. \n",
    "    l1.set_data(x,maxfs)\n",
    "    l2.set_data(x1,zf1)\n",
    "    return l1,l2\n",
    "\n",
    "# Create animation\n",
    "ani = animation.FuncAnimation(fig, update, frames = 10, blit=True, init_func = init)\n",
    "\n",
    "plt.show()"
   ]
  },
  {
   "cell_type": "code",
   "execution_count": 101,
   "metadata": {},
   "outputs": [
    {
     "data": {
      "image/png": "[encoded data removed]",
      "text/plain": [
       "<Figure size 432x288 with 1 Axes>"
      ]
     },
     "metadata": {
      "needs_background": "light"
     },
     "output_type": "display_data"
    }
   ],
   "source": [
    "import numpy as np\n",
    "import matplotlib.pyplot as plt\n",
    "import matplotlib.animation as animation\n",
    "\n",
    "fig, ax = plt.subplots()\n",
    "\n",
    "x = np.arange(0, 2*np.pi, 0.01)\n",
    "line, = ax.plot(x, np.sin(x))\n",
    "\n",
    "\n",
    "def animate(i):\n",
    "    line.set_ydata(np.sin(x + i/10.0))  # update the data\n",
    "    return line,\n",
    "\n",
    "\n",
    "# Init only required for blitting to give a clean slate.\n",
    "def init():\n",
    "    line.set_ydata(np.ma.array(x, mask=True))\n",
    "    return line,\n",
    "\n",
    "ani = animation.FuncAnimation(fig, animate, np.arange(1, 200), init_func=init,\n",
    "                              interval=25, blit=True)\n",
    "plt.show()"
   ]
  },
  {
   "cell_type": "code",
   "execution_count": null,
   "metadata": {},
   "outputs": [],
   "source": []
  }
 ],
 "metadata": {
  "kernelspec": {
   "display_name": "Python 3",
   "language": "python",
   "name": "python3"
  },
  "language_info": {
   "codemirror_mode": {
    "name": "ipython",
    "version": 3
   },
   "file_extension": ".py",
   "mimetype": "text/x-python",
   "name": "python",
   "nbconvert_exporter": "python",
   "pygments_lexer": "ipython3",
   "version": "3.6.10"
  }
 },
 "nbformat": 4,
 "nbformat_minor": 4
}
