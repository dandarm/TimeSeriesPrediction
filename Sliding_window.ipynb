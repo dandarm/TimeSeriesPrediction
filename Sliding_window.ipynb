{
 "cells": [
  {
   "cell_type": "code",
   "execution_count": 1,
   "metadata": {},
   "outputs": [
    {
     "name": "stdout",
     "output_type": "stream",
     "text": [
      "1.19.2\n"
     ]
    }
   ],
   "source": [
    "import pandas as pd\n",
    "import numpy as np\n",
    "print(np.__version__)\n",
    "as_strided = np.lib.stride_tricks.as_strided  \n",
    "#sliding_window_view = np.lib.stride_tricks.sliding_window_view"
   ]
  },
  {
   "cell_type": "code",
   "execution_count": 2,
   "metadata": {},
   "outputs": [
    {
     "name": "stdout",
     "output_type": "stream",
     "text": [
      "    col1  col2  col3\n",
      "0      0     0     0\n",
      "1      1     1     1\n",
      "2      2     2     2\n",
      "3      3     3     3\n",
      "4      4     4     4\n",
      "5      5     5     5\n",
      "6      6     6     6\n",
      "7      7     7     7\n",
      "8      8     8     8\n",
      "9      9     9     9\n",
      "10    10    10    10\n",
      "11    11    11    11\n",
      "12    12    12    12\n",
      "13    13    13    13\n",
      "14    14    14    14\n",
      "15    15    15    15\n",
      "16    16    16    16\n",
      "17    17    17    17\n",
      "18    18    18    18\n",
      "19    19    19    19\n"
     ]
    },
    {
     "data": {
      "text/plain": [
       "(17, 4)"
      ]
     },
     "execution_count": 2,
     "metadata": {},
     "output_type": "execute_result"
    }
   ],
   "source": [
    "df = pd.DataFrame({'col1': list(range(20)), 'col2': list(range(20)), 'col3': list(range(20))})\n",
    "print(df)\n",
    "win = 4\n",
    "(len(df) - (win - 1), win)"
   ]
  },
  {
   "cell_type": "code",
   "execution_count": 4,
   "metadata": {},
   "outputs": [
    {
     "data": {
      "text/plain": [
       "(8, 160)"
      ]
     },
     "execution_count": 4,
     "metadata": {},
     "output_type": "execute_result"
    }
   ],
   "source": [
    "df.values.strides[0], df.values.strides[1]"
   ]
  },
  {
   "cell_type": "code",
   "execution_count": 5,
   "metadata": {},
   "outputs": [
    {
     "data": {
      "text/plain": [
       "array([[ 0,  0,  0],\n",
       "       [ 1,  1,  1],\n",
       "       [ 2,  2,  2],\n",
       "       [ 3,  3,  3],\n",
       "       [ 4,  4,  4],\n",
       "       [ 5,  5,  5],\n",
       "       [ 6,  6,  6],\n",
       "       [ 7,  7,  7],\n",
       "       [ 8,  8,  8],\n",
       "       [ 9,  9,  9],\n",
       "       [10, 10, 10],\n",
       "       [11, 11, 11],\n",
       "       [12, 12, 12],\n",
       "       [13, 13, 13],\n",
       "       [14, 14, 14],\n",
       "       [15, 15, 15],\n",
       "       [16, 16, 16],\n",
       "       [17, 17, 17],\n",
       "       [18, 18, 18],\n",
       "       [19, 19, 19]])"
      ]
     },
     "execution_count": 5,
     "metadata": {},
     "output_type": "execute_result"
    }
   ],
   "source": [
    "df.values"
   ]
  },
  {
   "cell_type": "code",
   "execution_count": 6,
   "metadata": {},
   "outputs": [
    {
     "ename": "ValueError",
     "evalue": "mismatch in length of strides and shape",
     "output_type": "error",
     "traceback": [
      "\u001b[0;31m---------------------------------------------------------------------------\u001b[0m",
      "\u001b[0;31mValueError\u001b[0m                                Traceback (most recent call last)",
      "\u001b[0;32m<ipython-input-6-b93cb1c3d71b>\u001b[0m in \u001b[0;36m<module>\u001b[0;34m\u001b[0m\n\u001b[0;32m----> 1\u001b[0;31m \u001b[0mv\u001b[0m \u001b[0;34m=\u001b[0m \u001b[0mas_strided\u001b[0m\u001b[0;34m(\u001b[0m\u001b[0mdf\u001b[0m\u001b[0;34m.\u001b[0m\u001b[0mvalues\u001b[0m\u001b[0;34m,\u001b[0m \u001b[0;34m(\u001b[0m\u001b[0mlen\u001b[0m\u001b[0;34m(\u001b[0m\u001b[0mdf\u001b[0m\u001b[0;34m)\u001b[0m \u001b[0;34m-\u001b[0m \u001b[0;34m(\u001b[0m\u001b[0mwin\u001b[0m \u001b[0;34m-\u001b[0m \u001b[0;36m1\u001b[0m\u001b[0;34m)\u001b[0m\u001b[0;34m,\u001b[0m \u001b[0mwin\u001b[0m\u001b[0;34m)\u001b[0m\u001b[0;34m,\u001b[0m \u001b[0;34m(\u001b[0m\u001b[0mdf\u001b[0m\u001b[0;34m.\u001b[0m\u001b[0mvalues\u001b[0m\u001b[0;34m.\u001b[0m\u001b[0mstrides\u001b[0m\u001b[0;34m*\u001b[0m\u001b[0;36m2\u001b[0m\u001b[0;34m)\u001b[0m\u001b[0;34m)\u001b[0m\u001b[0;34m\u001b[0m\u001b[0;34m\u001b[0m\u001b[0m\n\u001b[0m\u001b[1;32m      2\u001b[0m \u001b[0mprint\u001b[0m\u001b[0;34m(\u001b[0m\u001b[0mv\u001b[0m\u001b[0;34m)\u001b[0m\u001b[0;34m\u001b[0m\u001b[0;34m\u001b[0m\u001b[0m\n",
      "\u001b[0;32m~/miniconda3/envs/stockpredictor/lib/python3.7/site-packages/numpy/lib/stride_tricks.py\u001b[0m in \u001b[0;36mas_strided\u001b[0;34m(x, shape, strides, subok, writeable)\u001b[0m\n\u001b[1;32m     99\u001b[0m         \u001b[0minterface\u001b[0m\u001b[0;34m[\u001b[0m\u001b[0;34m'strides'\u001b[0m\u001b[0;34m]\u001b[0m \u001b[0;34m=\u001b[0m \u001b[0mtuple\u001b[0m\u001b[0;34m(\u001b[0m\u001b[0mstrides\u001b[0m\u001b[0;34m)\u001b[0m\u001b[0;34m\u001b[0m\u001b[0;34m\u001b[0m\u001b[0m\n\u001b[1;32m    100\u001b[0m \u001b[0;34m\u001b[0m\u001b[0m\n\u001b[0;32m--> 101\u001b[0;31m     \u001b[0marray\u001b[0m \u001b[0;34m=\u001b[0m \u001b[0mnp\u001b[0m\u001b[0;34m.\u001b[0m\u001b[0masarray\u001b[0m\u001b[0;34m(\u001b[0m\u001b[0mDummyArray\u001b[0m\u001b[0;34m(\u001b[0m\u001b[0minterface\u001b[0m\u001b[0;34m,\u001b[0m \u001b[0mbase\u001b[0m\u001b[0;34m=\u001b[0m\u001b[0mx\u001b[0m\u001b[0;34m)\u001b[0m\u001b[0;34m)\u001b[0m\u001b[0;34m\u001b[0m\u001b[0;34m\u001b[0m\u001b[0m\n\u001b[0m\u001b[1;32m    102\u001b[0m     \u001b[0;31m# The route via `__interface__` does not preserve structured\u001b[0m\u001b[0;34m\u001b[0m\u001b[0;34m\u001b[0m\u001b[0;34m\u001b[0m\u001b[0m\n\u001b[1;32m    103\u001b[0m     \u001b[0;31m# dtypes. Since dtype should remain unchanged, we set it explicitly.\u001b[0m\u001b[0;34m\u001b[0m\u001b[0;34m\u001b[0m\u001b[0;34m\u001b[0m\u001b[0m\n",
      "\u001b[0;32m~/miniconda3/envs/stockpredictor/lib/python3.7/site-packages/numpy/core/_asarray.py\u001b[0m in \u001b[0;36masarray\u001b[0;34m(a, dtype, order)\u001b[0m\n\u001b[1;32m     81\u001b[0m \u001b[0;34m\u001b[0m\u001b[0m\n\u001b[1;32m     82\u001b[0m     \"\"\"\n\u001b[0;32m---> 83\u001b[0;31m     \u001b[0;32mreturn\u001b[0m \u001b[0marray\u001b[0m\u001b[0;34m(\u001b[0m\u001b[0ma\u001b[0m\u001b[0;34m,\u001b[0m \u001b[0mdtype\u001b[0m\u001b[0;34m,\u001b[0m \u001b[0mcopy\u001b[0m\u001b[0;34m=\u001b[0m\u001b[0;32mFalse\u001b[0m\u001b[0;34m,\u001b[0m \u001b[0morder\u001b[0m\u001b[0;34m=\u001b[0m\u001b[0morder\u001b[0m\u001b[0;34m)\u001b[0m\u001b[0;34m\u001b[0m\u001b[0;34m\u001b[0m\u001b[0m\n\u001b[0m\u001b[1;32m     84\u001b[0m \u001b[0;34m\u001b[0m\u001b[0m\n\u001b[1;32m     85\u001b[0m \u001b[0;34m\u001b[0m\u001b[0m\n",
      "\u001b[0;31mValueError\u001b[0m: mismatch in length of strides and shape"
     ]
    }
   ],
   "source": [
    "v = as_strided(df.values, (len(df) - (win - 1), win), (df.values.strides*2))\n",
    "print(v)"
   ]
  },
  {
   "cell_type": "code",
   "execution_count": 7,
   "metadata": {},
   "outputs": [
    {
     "ename": "NameError",
     "evalue": "name 'sliding_window_view' is not defined",
     "output_type": "error",
     "traceback": [
      "\u001b[0;31m---------------------------------------------------------------------------\u001b[0m",
      "\u001b[0;31mNameError\u001b[0m                                 Traceback (most recent call last)",
      "\u001b[0;32m<ipython-input-7-5df45d3b8126>\u001b[0m in \u001b[0;36m<module>\u001b[0;34m\u001b[0m\n\u001b[0;32m----> 1\u001b[0;31m \u001b[0mv\u001b[0m \u001b[0;34m=\u001b[0m \u001b[0msliding_window_view\u001b[0m\u001b[0;34m(\u001b[0m\u001b[0mdf\u001b[0m\u001b[0;34m.\u001b[0m\u001b[0mB\u001b[0m\u001b[0;34m,\u001b[0m \u001b[0;36m3\u001b[0m\u001b[0;34m)\u001b[0m\u001b[0;34m\u001b[0m\u001b[0;34m\u001b[0m\u001b[0m\n\u001b[0m\u001b[1;32m      2\u001b[0m \u001b[0mprint\u001b[0m\u001b[0;34m(\u001b[0m\u001b[0mv\u001b[0m\u001b[0;34m.\u001b[0m\u001b[0mshape\u001b[0m\u001b[0;34m)\u001b[0m\u001b[0;34m\u001b[0m\u001b[0;34m\u001b[0m\u001b[0m\n\u001b[1;32m      3\u001b[0m \u001b[0mv\u001b[0m\u001b[0;34m\u001b[0m\u001b[0;34m\u001b[0m\u001b[0m\n",
      "\u001b[0;31mNameError\u001b[0m: name 'sliding_window_view' is not defined"
     ]
    }
   ],
   "source": [
    "v = sliding_window_view(df.B, 3)\n",
    "print(v.shape)\n",
    "v"
   ]
  },
  {
   "cell_type": "markdown",
   "metadata": {},
   "source": [
    "# Metodo as_strided"
   ]
  },
  {
   "cell_type": "code",
   "execution_count": 8,
   "metadata": {},
   "outputs": [],
   "source": [
    "def sliding_window_slicing(a, no_items, item_type=0):\n",
    "    \"\"\"This method perfoms sliding window slicing of numpy arrays\n",
    "\n",
    "    Parameters\n",
    "    ----------\n",
    "    a : numpy\n",
    "        An array to be slided in subarrays\n",
    "    no_items : int\n",
    "        Number of sliced arrays or elements in sliced arrays\n",
    "    item_type: int\n",
    "        Indicates if no_items is number of sliced arrays (item_type=0) or\n",
    "        number of elements in sliced array (item_type=1), by default 0\n",
    "\n",
    "    Return\n",
    "    ------\n",
    "    numpy\n",
    "        Sliced numpy array\n",
    "    \"\"\"\n",
    "    if item_type == 0:\n",
    "        no_slices = no_items\n",
    "        no_elements = len(a) + 1 - no_slices\n",
    "        if no_elements <=0:\n",
    "            raise ValueError('Sliding slicing not possible, no_items is larger than ' + str(len(a)))\n",
    "    else:\n",
    "        no_elements = no_items                \n",
    "        no_slices = len(a) - no_elements + 1\n",
    "        if no_slices <=0:\n",
    "            raise ValueError('Sliding slicing not possible, no_items is larger than ' + str(len(a)))\n",
    "\n",
    "    subarray_shape = a.shape[1:]\n",
    "    shape_cfg = (no_slices, no_elements) + subarray_shape\n",
    "    strides_cfg = (a.strides[0],) + a.strides\n",
    "    as_strided = np.lib.stride_tricks.as_strided #shorthand\n",
    "    return as_strided(a, shape=shape_cfg, strides=strides_cfg)"
   ]
  },
  {
   "cell_type": "code",
   "execution_count": 9,
   "metadata": {},
   "outputs": [],
   "source": [
    "df=pd.DataFrame(data=np.random.rand(180,3),columns=['a', 'b', 'c'])"
   ]
  },
  {
   "cell_type": "code",
   "execution_count": 10,
   "metadata": {},
   "outputs": [
    {
     "data": {
      "text/html": [
       "<div>\n",
       "<style scoped>\n",
       "    .dataframe tbody tr th:only-of-type {\n",
       "        vertical-align: middle;\n",
       "    }\n",
       "\n",
       "    .dataframe tbody tr th {\n",
       "        vertical-align: top;\n",
       "    }\n",
       "\n",
       "    .dataframe thead th {\n",
       "        text-align: right;\n",
       "    }\n",
       "</style>\n",
       "<table border=\"1\" class=\"dataframe\">\n",
       "  <thead>\n",
       "    <tr style=\"text-align: right;\">\n",
       "      <th></th>\n",
       "      <th>a</th>\n",
       "      <th>b</th>\n",
       "      <th>c</th>\n",
       "    </tr>\n",
       "  </thead>\n",
       "  <tbody>\n",
       "    <tr>\n",
       "      <th>0</th>\n",
       "      <td>0.599051</td>\n",
       "      <td>0.045989</td>\n",
       "      <td>0.638401</td>\n",
       "    </tr>\n",
       "    <tr>\n",
       "      <th>1</th>\n",
       "      <td>0.629954</td>\n",
       "      <td>0.538837</td>\n",
       "      <td>0.869369</td>\n",
       "    </tr>\n",
       "    <tr>\n",
       "      <th>2</th>\n",
       "      <td>0.111950</td>\n",
       "      <td>0.030649</td>\n",
       "      <td>0.670403</td>\n",
       "    </tr>\n",
       "    <tr>\n",
       "      <th>3</th>\n",
       "      <td>0.279546</td>\n",
       "      <td>0.458848</td>\n",
       "      <td>0.604036</td>\n",
       "    </tr>\n",
       "    <tr>\n",
       "      <th>4</th>\n",
       "      <td>0.690677</td>\n",
       "      <td>0.547793</td>\n",
       "      <td>0.948830</td>\n",
       "    </tr>\n",
       "    <tr>\n",
       "      <th>...</th>\n",
       "      <td>...</td>\n",
       "      <td>...</td>\n",
       "      <td>...</td>\n",
       "    </tr>\n",
       "    <tr>\n",
       "      <th>175</th>\n",
       "      <td>0.603426</td>\n",
       "      <td>0.333968</td>\n",
       "      <td>0.467682</td>\n",
       "    </tr>\n",
       "    <tr>\n",
       "      <th>176</th>\n",
       "      <td>0.165114</td>\n",
       "      <td>0.960803</td>\n",
       "      <td>0.890748</td>\n",
       "    </tr>\n",
       "    <tr>\n",
       "      <th>177</th>\n",
       "      <td>0.016659</td>\n",
       "      <td>0.153693</td>\n",
       "      <td>0.574538</td>\n",
       "    </tr>\n",
       "    <tr>\n",
       "      <th>178</th>\n",
       "      <td>0.443989</td>\n",
       "      <td>0.653600</td>\n",
       "      <td>0.135587</td>\n",
       "    </tr>\n",
       "    <tr>\n",
       "      <th>179</th>\n",
       "      <td>0.604520</td>\n",
       "      <td>0.393956</td>\n",
       "      <td>0.611257</td>\n",
       "    </tr>\n",
       "  </tbody>\n",
       "</table>\n",
       "<p>180 rows × 3 columns</p>\n",
       "</div>"
      ],
      "text/plain": [
       "            a         b         c\n",
       "0    0.599051  0.045989  0.638401\n",
       "1    0.629954  0.538837  0.869369\n",
       "2    0.111950  0.030649  0.670403\n",
       "3    0.279546  0.458848  0.604036\n",
       "4    0.690677  0.547793  0.948830\n",
       "..        ...       ...       ...\n",
       "175  0.603426  0.333968  0.467682\n",
       "176  0.165114  0.960803  0.890748\n",
       "177  0.016659  0.153693  0.574538\n",
       "178  0.443989  0.653600  0.135587\n",
       "179  0.604520  0.393956  0.611257\n",
       "\n",
       "[180 rows x 3 columns]"
      ]
     },
     "execution_count": 10,
     "metadata": {},
     "output_type": "execute_result"
    }
   ],
   "source": [
    "df"
   ]
  },
  {
   "cell_type": "code",
   "execution_count": 11,
   "metadata": {},
   "outputs": [
    {
     "data": {
      "text/plain": [
       "array([[[0.59905056, 0.04598937, 0.63840135],\n",
       "        [0.62995402, 0.53883743, 0.86936891],\n",
       "        [0.1119498 , 0.03064858, 0.67040312],\n",
       "        [0.27954621, 0.45884808, 0.6040356 ],\n",
       "        [0.6906771 , 0.54779325, 0.94882997]],\n",
       "\n",
       "       [[0.62995402, 0.53883743, 0.86936891],\n",
       "        [0.1119498 , 0.03064858, 0.67040312],\n",
       "        [0.27954621, 0.45884808, 0.6040356 ],\n",
       "        [0.6906771 , 0.54779325, 0.94882997],\n",
       "        [0.87981093, 0.60546414, 0.28157688]],\n",
       "\n",
       "       [[0.1119498 , 0.03064858, 0.67040312],\n",
       "        [0.27954621, 0.45884808, 0.6040356 ],\n",
       "        [0.6906771 , 0.54779325, 0.94882997],\n",
       "        [0.87981093, 0.60546414, 0.28157688],\n",
       "        [0.47995378, 0.55449738, 0.88399752]],\n",
       "\n",
       "       ...,\n",
       "\n",
       "       [[0.5620832 , 0.65540989, 0.25305416],\n",
       "        [0.678566  , 0.46389301, 0.09739531],\n",
       "        [0.60342636, 0.33396848, 0.46768227],\n",
       "        [0.16511365, 0.96080302, 0.89074822],\n",
       "        [0.01665929, 0.15369303, 0.57453814]],\n",
       "\n",
       "       [[0.678566  , 0.46389301, 0.09739531],\n",
       "        [0.60342636, 0.33396848, 0.46768227],\n",
       "        [0.16511365, 0.96080302, 0.89074822],\n",
       "        [0.01665929, 0.15369303, 0.57453814],\n",
       "        [0.4439886 , 0.65360037, 0.13558722]],\n",
       "\n",
       "       [[0.60342636, 0.33396848, 0.46768227],\n",
       "        [0.16511365, 0.96080302, 0.89074822],\n",
       "        [0.01665929, 0.15369303, 0.57453814],\n",
       "        [0.4439886 , 0.65360037, 0.13558722],\n",
       "        [0.60451954, 0.39395573, 0.61125682]]])"
      ]
     },
     "execution_count": 11,
     "metadata": {},
     "output_type": "execute_result"
    }
   ],
   "source": [
    "sliding_window_slicing(df.values, 5, item_type=1)   "
   ]
  },
  {
   "cell_type": "code",
   "execution_count": null,
   "metadata": {},
   "outputs": [],
   "source": []
  }
 ],
 "metadata": {
  "kernelspec": {
   "display_name": "Stock Neural Predictor",
   "language": "python",
   "name": "python3"
  },
  "language_info": {
   "codemirror_mode": {
    "name": "ipython",
    "version": 3
   },
   "file_extension": ".py",
   "mimetype": "text/x-python",
   "name": "python",
   "nbconvert_exporter": "python",
   "pygments_lexer": "ipython3",
   "version": "3.7.9"
  }
 },
 "nbformat": 4,
 "nbformat_minor": 4
}
