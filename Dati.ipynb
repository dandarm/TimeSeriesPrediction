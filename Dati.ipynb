{
 "cells": [
  {
   "cell_type": "code",
   "execution_count": null,
   "metadata": {},
   "outputs": [],
   "source": [
    "%load_ext autoreload\n",
    "%autoreload 2\n",
    "\n",
    "\n",
    "import numpy as np\n",
    "import pandas as pd\n",
    "#pd.set_option('max_rows',999)\n",
    "pd.options.display.float_format = '{:.9f}'.format\n",
    "import random\n",
    "import itertools\n",
    "from pathlib import Path\n",
    "import re\n",
    "import datetime\n",
    "import dateutil\n",
    "from multiprocessing import Pool\n",
    "import matplotlib.pyplot as plt\n",
    "from sklearn import linear_model\n",
    "#import networkx as nx\n",
    "\n",
    "from data_transform import file_to_transform, df_trades_resample, trades_files, trades2_transformed_files\n",
    "#root = Path(\"/home/daniele/Documenti/Progetti/TimeSeries/borsa/download_data\")\n",
    "from load_dfs import load_dfs, intersez_date, date_limite, max_intersection\n",
    "#print(f\"Root directory: {root}\")"
   ]
  },
  {
   "cell_type": "code",
   "execution_count": null,
   "metadata": {
    "tags": []
   },
   "outputs": [],
   "source": [
    "def make_pd_date_interval(inizio, fine, frequenza):\n",
    "    future = pd.date_range(inizio,fine, freq=frequenza).strftime(\"%Y-%b-%d\").tolist()\n",
    "    future = pd.DataFrame(future)\n",
    "    future.columns = ['ds']\n",
    "    future['ds']= pd.to_datetime(future['ds'])\n",
    "    return future\n",
    "\n",
    "def make_pd_date_interval_train_test(df, train_perc, freq='D'):\n",
    "    daterange = pd.date_range(df['ds'][0], df['ds'][-1], freq=freq)#.strftime(\"%Y-%b-%d\").tolist()\n",
    "    interval = daterange[-1] - daterange[0]\n",
    "    train_interval = pd.Timedelta(int(interval.days*train_perc), \"d\")\n",
    "    \n",
    "    # train\n",
    "    end_training =  df['ds'][0] + train_interval\n",
    "    train = pd.date_range(df['ds'][0], end_training, freq=freq)#.strftime(\"%Y-%b-%d\").tolist()\n",
    "    train = pd.DataFrame(train)\n",
    "    train.columns = ['ds']\n",
    "    train['ds']= pd.to_datetime(train['ds'])\n",
    "    \n",
    "    #test\n",
    "    future = pd.date_range(end_training, df['ds'][-1], freq=freq)#.strftime(\"%Y-%b-%d\").tolist()\n",
    "    future = pd.DataFrame(future)\n",
    "    future.columns = ['ds']\n",
    "    future['ds']= pd.to_datetime(future['ds'])\n",
    "    \n",
    "    return train, future"
   ]
  },
  {
   "cell_type": "code",
   "execution_count": null,
   "metadata": {},
   "outputs": [],
   "source": [
    "resampled_data_folder = Path(\"resampled\")"
   ]
  },
  {
   "cell_type": "markdown",
   "metadata": {
    "tags": []
   },
   "source": [
    "## Gestione Dati"
   ]
  },
  {
   "cell_type": "markdown",
   "metadata": {},
   "source": [
    "### Carico da file i dataframe ricampionati"
   ]
  },
  {
   "cell_type": "code",
   "execution_count": null,
   "metadata": {},
   "outputs": [],
   "source": [
    "df_list, coinpairs = load_dfs(resampled_data_folder, \"df5min\")"
   ]
  },
  {
   "cell_type": "code",
   "execution_count": null,
   "metadata": {},
   "outputs": [],
   "source": [
    "df_list[99]#.plot()"
   ]
  },
  {
   "cell_type": "markdown",
   "metadata": {
    "jp-MarkdownHeadingCollapsed": true,
    "tags": []
   },
   "source": [
    "## Overlap massimo"
   ]
  },
  {
   "cell_type": "code",
   "execution_count": null,
   "metadata": {},
   "outputs": [],
   "source": [
    "# range_tot = list(range(len(df_list)))\n",
    "# coppie_numeric = list(itertools.combinations(range_tot, 2))"
   ]
  },
  {
   "cell_type": "code",
   "execution_count": null,
   "metadata": {},
   "outputs": [],
   "source": [
    "# inters = [intersez_date(df_list, i,j) for i, j in coppie_numeric]\n",
    "# print(max(inters))\n",
    "# best_ij = coppie_numeric[np.argmax(inters)]\n",
    "# best = date_limite(df_list, best_ij[0], best_ij[1])\n",
    "# print(best)"
   ]
  },
  {
   "cell_type": "code",
   "execution_count": null,
   "metadata": {
    "tags": []
   },
   "outputs": [],
   "source": [
    "# lista_best_idx = []\n",
    "\n",
    "# try:\n",
    "#     range_tot.remove(best_ij[0])\n",
    "#     range_tot.remove(best_ij[1])\n",
    "# except:\n",
    "#     pass"
   ]
  },
  {
   "cell_type": "code",
   "execution_count": null,
   "metadata": {},
   "outputs": [],
   "source": [
    "# lunghezze = []\n",
    "# while len(range_tot) > 1:\n",
    "#     inters_both = [max_intersection(df_list, best, i) for i in range_tot]\n",
    "#     inters = [a-b for a,b in inters_both]\n",
    "#     lungh = max(inters)\n",
    "#     #print(lungh)\n",
    "#     lunghezze.append(lungh)\n",
    "#     best_i = np.argmax(inters)\n",
    "#     best = max_intersection(df_list, best, range_tot[best_i])\n",
    "#     lista_best_idx.append(range_tot[best_i])\n",
    "#     range_tot.pop(best_i)"
   ]
  },
  {
   "cell_type": "code",
   "execution_count": null,
   "metadata": {},
   "outputs": [],
   "source": [
    "# plt.plot([l.days for l in lunghezze])"
   ]
  },
  {
   "cell_type": "markdown",
   "metadata": {},
   "source": [
    "### Scelgo un numero di crypto per massimizzare la finestra temporale"
   ]
  },
  {
   "cell_type": "code",
   "execution_count": null,
   "metadata": {},
   "outputs": [],
   "source": [
    "# cut = 150\n",
    "# dfs = pd.concat([df_list[i] for i in lista_best_idx[:cut]], join='inner', axis=1)"
   ]
  },
  {
   "cell_type": "code",
   "execution_count": null,
   "metadata": {},
   "outputs": [],
   "source": [
    "#dfs = dfs2.copy()"
   ]
  },
  {
   "cell_type": "code",
   "execution_count": null,
   "metadata": {},
   "outputs": [],
   "source": [
    "# devo riempire i vuoti che ci sono negli intervalli privi di transazioni, ricopio il prezzo precedente\n",
    "#dfs.fillna(0, inplace=True)\n",
    "# dfs = (dfs.ffill()+dfs.bfill())/2\n",
    "# for col in dfs.columns:\n",
    "#     dfs[col] = dfs[col].replace(to_replace=0, method='ffill')"
   ]
  },
  {
   "cell_type": "code",
   "execution_count": null,
   "metadata": {
    "tags": []
   },
   "outputs": [],
   "source": [
    "# coinpairs = [c.split('-')[0] for c in coinpairs]\n",
    "# dfs.columns = [coinpairs[i] for i in lista_best_idx[:cut]]"
   ]
  },
  {
   "cell_type": "code",
   "execution_count": null,
   "metadata": {},
   "outputs": [],
   "source": [
    "# coinpairs.index(\"BTC_EUR\")"
   ]
  },
  {
   "cell_type": "code",
   "execution_count": null,
   "metadata": {},
   "outputs": [],
   "source": []
  },
  {
   "cell_type": "code",
   "execution_count": null,
   "metadata": {},
   "outputs": [],
   "source": [
    "# dfs['BTC_EUR'].plot()"
   ]
  },
  {
   "cell_type": "code",
   "execution_count": null,
   "metadata": {},
   "outputs": [],
   "source": [
    "# dfs['BTC_EUR'].shape"
   ]
  },
  {
   "cell_type": "markdown",
   "metadata": {
    "tags": []
   },
   "source": [
    "## Prendo solo il bitcoin"
   ]
  },
  {
   "cell_type": "code",
   "execution_count": null,
   "metadata": {},
   "outputs": [],
   "source": [
    "df = df_list[99]\n",
    "df_1day = df.resample('D').mean()\n",
    "df_1day = df_1day.reset_index(level=0)\n",
    "df_1day.columns = ['ds', 'y']"
   ]
  },
  {
   "cell_type": "code",
   "execution_count": null,
   "metadata": {},
   "outputs": [],
   "source": [
    "df_1day['ds_'] = df_1day['ds']\n",
    "df_1day = df_1day.set_index('ds_')\n",
    "#df_1day"
   ]
  },
  {
   "cell_type": "code",
   "execution_count": null,
   "metadata": {},
   "outputs": [],
   "source": [
    "#make_pd_date_interval('2021-06-10','2021-07-10', 'D')\n",
    "train, test = make_pd_date_interval_train_test(df_1day, 0.56)"
   ]
  },
  {
   "cell_type": "code",
   "execution_count": null,
   "metadata": {},
   "outputs": [],
   "source": [
    "df_train = pd.merge(train, df_1day, on='ds')\n",
    "df_test = pd.merge(test, df_1day, on='ds')"
   ]
  },
  {
   "cell_type": "code",
   "execution_count": null,
   "metadata": {},
   "outputs": [],
   "source": [
    "from prophet import Prophet\n",
    "model = Prophet(daily_seasonality=True)\n",
    "\n",
    "model.fit(df_train)"
   ]
  },
  {
   "cell_type": "code",
   "execution_count": null,
   "metadata": {},
   "outputs": [],
   "source": [
    "#forecast = model.predict(test)\n",
    "#forecast[['ds', 'yhat', 'yhat_lower', 'yhat_upper']]"
   ]
  },
  {
   "cell_type": "code",
   "execution_count": null,
   "metadata": {},
   "outputs": [],
   "source": [
    "#forecast.plot()"
   ]
  },
  {
   "cell_type": "code",
   "execution_count": null,
   "metadata": {},
   "outputs": [],
   "source": [
    "#model.plot_components(forecast)\n"
   ]
  },
  {
   "cell_type": "code",
   "execution_count": null,
   "metadata": {},
   "outputs": [],
   "source": [
    "forecast = model.predict(df_test)"
   ]
  },
  {
   "cell_type": "code",
   "execution_count": null,
   "metadata": {},
   "outputs": [],
   "source": [
    "model.plot(forecast)\n",
    "df_1day.y.plot()\n",
    "plt.show()"
   ]
  },
  {
   "cell_type": "code",
   "execution_count": null,
   "metadata": {},
   "outputs": [],
   "source": [
    "from sklearn.metrics import mean_absolute_error, mean_absolute_percentage_error"
   ]
  },
  {
   "cell_type": "code",
   "execution_count": null,
   "metadata": {},
   "outputs": [],
   "source": [
    "y_true = df_test.y\n",
    "y_pred = forecast['yhat'].values\n",
    "mae = mean_absolute_error(y_true, y_pred)\n",
    "mape = mean_absolute_percentage_error(y_true, y_pred)\n",
    "print(f'MAE: {round(mae,3)} \\t MAPE: {round(mape,5)}')"
   ]
  },
  {
   "cell_type": "code",
   "execution_count": null,
   "metadata": {},
   "outputs": [],
   "source": [
    "100-(0.04981*100)"
   ]
  },
  {
   "cell_type": "code",
   "execution_count": null,
   "metadata": {},
   "outputs": [],
   "source": [
    "100-(100*abs(12-11.5)/12)"
   ]
  },
  {
   "cell_type": "code",
   "execution_count": null,
   "metadata": {},
   "outputs": [],
   "source": [
    "2500/2900"
   ]
  },
  {
   "cell_type": "markdown",
   "metadata": {},
   "source": [
    "## Cross validation"
   ]
  },
  {
   "cell_type": "code",
   "execution_count": null,
   "metadata": {},
   "outputs": [],
   "source": [
    "from prophet.diagnostics import cross_validation\n",
    "df_cv = cross_validation(model, initial='365 days', period='30 days', horizon = '365 days')\n"
   ]
  },
  {
   "cell_type": "code",
   "execution_count": null,
   "metadata": {},
   "outputs": [],
   "source": [
    "from prophet.diagnostics import performance_metrics\n",
    "df_p = performance_metrics(df_cv)\n",
    "df_p"
   ]
  },
  {
   "cell_type": "code",
   "execution_count": null,
   "metadata": {},
   "outputs": [],
   "source": [
    "from prophet.plot import plot_cross_validation_metric\n",
    "fig = plot_cross_validation_metric(df_cv, metric='mape')\n"
   ]
  }
 ],
 "metadata": {
  "kernelspec": {
   "display_name": "fbprophet_dan",
   "language": "python",
   "name": "python3"
  },
  "language_info": {
   "codemirror_mode": {
    "name": "ipython",
    "version": 3
   },
   "file_extension": ".py",
   "mimetype": "text/x-python",
   "name": "python",
   "nbconvert_exporter": "python",
   "pygments_lexer": "ipython3",
   "version": "3.10.6 (main, Nov 14 2022, 16:10:14) [GCC 11.3.0]"
  },
  "vscode": {
   "interpreter": {
    "hash": "aedb3b521ec5d68994bd70efceab6282beb9dfca515a5017356d72a3f1833f8f"
   }
  }
 },
 "nbformat": 4,
 "nbformat_minor": 4
}
