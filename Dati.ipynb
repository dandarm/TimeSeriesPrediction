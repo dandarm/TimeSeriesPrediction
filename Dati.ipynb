{
 "cells": [
  {
   "cell_type": "code",
   "execution_count": 3,
   "metadata": {},
   "outputs": [
    {
     "name": "stdout",
     "output_type": "stream",
     "text": [
      "The autoreload extension is already loaded. To reload it, use:\n",
      "  %reload_ext autoreload\n"
     ]
    }
   ],
   "source": [
    "%load_ext autoreload\n",
    "%autoreload 2\n",
    "\n",
    "\n",
    "import numpy as np\n",
    "import pandas as pd\n",
    "#pd.set_option('max_rows',999)\n",
    "pd.options.display.float_format = '{:.9f}'.format\n",
    "import random\n",
    "import itertools\n",
    "from pathlib import Path\n",
    "import re\n",
    "import datetime\n",
    "import dateutil\n",
    "from multiprocessing import Pool\n",
    "import matplotlib.pyplot as plt\n",
    "from sklearn import linear_model\n",
    "#import networkx as nx\n",
    "\n",
    "from data_transform import file_to_transform, df_trades_resample, trades_files, trades2_transformed_files\n",
    "root = Path(\"/home/daniele/Documenti/Progetti/TimeSeries/borsa/download_data\")\n",
    "from load_dfs import load_dfs, intersez_date, date_limite, max_intersection\n",
    "#print(f\"Root directory: {root}\")"
   ]
  },
  {
   "cell_type": "code",
   "execution_count": 4,
   "metadata": {},
   "outputs": [],
   "source": [
    "resampled_data_folder = Path(\"resampled\")"
   ]
  },
  {
   "cell_type": "markdown",
   "metadata": {},
   "source": [
    "# Gestione Dati"
   ]
  },
  {
   "cell_type": "markdown",
   "metadata": {},
   "source": [
    "### Carico da file i dataframe ricampionati"
   ]
  },
  {
   "cell_type": "code",
   "execution_count": 5,
   "metadata": {},
   "outputs": [],
   "source": [
    "df_list, coinpairs = load_dfs(resampled_data_folder, \"df5min\")"
   ]
  },
  {
   "cell_type": "code",
   "execution_count": null,
   "metadata": {},
   "outputs": [],
   "source": []
  },
  {
   "cell_type": "markdown",
   "metadata": {
    "tags": []
   },
   "source": [
    "## Overlap massimo"
   ]
  },
  {
   "cell_type": "code",
   "execution_count": 6,
   "metadata": {},
   "outputs": [],
   "source": [
    "range_tot = list(range(len(df_list)))\n",
    "coppie_numeric = list(itertools.combinations(range_tot, 2))"
   ]
  },
  {
   "cell_type": "code",
   "execution_count": 7,
   "metadata": {},
   "outputs": [
    {
     "name": "stdout",
     "output_type": "stream",
     "text": [
      "1418 days 11:05:00\n",
      "(Timestamp('2021-06-25 15:05:00'), Timestamp('2017-08-07 04:00:00'))\n"
     ]
    }
   ],
   "source": [
    "inters = [intersez_date(df_list, i,j) for i, j in coppie_numeric]\n",
    "print(max(inters))\n",
    "best_ij = coppie_numeric[np.argmax(inters)]\n",
    "best = date_limite(df_list, best_ij[0], best_ij[1])\n",
    "print(best)"
   ]
  },
  {
   "cell_type": "code",
   "execution_count": 8,
   "metadata": {
    "tags": []
   },
   "outputs": [],
   "source": [
    "lista_best_idx = []\n",
    "\n",
    "try:\n",
    "    range_tot.remove(best_ij[0])\n",
    "    range_tot.remove(best_ij[1])\n",
    "except:\n",
    "    pass"
   ]
  },
  {
   "cell_type": "code",
   "execution_count": 9,
   "metadata": {},
   "outputs": [],
   "source": [
    "lunghezze = []\n",
    "while len(range_tot) > 1:\n",
    "    inters_both = [max_intersection(df_list, best, i) for i in range_tot]\n",
    "    inters = [a-b for a,b in inters_both]\n",
    "    lungh = max(inters)\n",
    "    #print(lungh)\n",
    "    lunghezze.append(lungh)\n",
    "    best_i = np.argmax(inters)\n",
    "    best = max_intersection(df_list, best, range_tot[best_i])\n",
    "    lista_best_idx.append(range_tot[best_i])\n",
    "    range_tot.pop(best_i)"
   ]
  },
  {
   "cell_type": "code",
   "execution_count": 10,
   "metadata": {},
   "outputs": [
    {
     "data": {
      "text/plain": [
       "[<matplotlib.lines.Line2D at 0x7f61ec6c2a40>]"
      ]
     },
     "execution_count": 10,
     "metadata": {},
     "output_type": "execute_result"
    },
    {
     "data": {
      "image/png": "[encoded data removed]",
      "text/plain": [
       "<Figure size 640x480 with 1 Axes>"
      ]
     },
     "metadata": {},
     "output_type": "display_data"
    }
   ],
   "source": [
    "plt.plot([l.days for l in lunghezze])"
   ]
  },
  {
   "cell_type": "markdown",
   "metadata": {},
   "source": [
    "### Scelgo un numero di crypto per massimizzare la finestra temporale"
   ]
  },
  {
   "cell_type": "code",
   "execution_count": 11,
   "metadata": {},
   "outputs": [],
   "source": [
    "cut = 150\n",
    "dfs = pd.concat([df_list[i] for i in lista_best_idx[:cut]], join='inner', axis=1)"
   ]
  },
  {
   "cell_type": "code",
   "execution_count": 12,
   "metadata": {},
   "outputs": [],
   "source": [
    "#dfs = dfs2.copy()"
   ]
  },
  {
   "cell_type": "code",
   "execution_count": 13,
   "metadata": {},
   "outputs": [],
   "source": [
    "# devo riempire i vuoti che ci sono negli intervalli privi di transazioni, ricopio il prezzo precedente\n",
    "#dfs.fillna(0, inplace=True)\n",
    "dfs = (dfs.ffill()+dfs.bfill())/2\n",
    "for col in dfs.columns:\n",
    "    dfs[col] = dfs[col].replace(to_replace=0, method='ffill')"
   ]
  },
  {
   "cell_type": "code",
   "execution_count": 14,
   "metadata": {
    "tags": []
   },
   "outputs": [],
   "source": [
    "coinpairs = [c.split('-')[0] for c in coinpairs]\n",
    "dfs.columns = [coinpairs[i] for i in lista_best_idx[:cut]]"
   ]
  }
 ],
 "metadata": {
  "kernelspec": {
   "display_name": "Python 3.10.6 ('fbprophet_dan')",
   "language": "python",
   "name": "python3"
  },
  "language_info": {
   "codemirror_mode": {
    "name": "ipython",
    "version": 3
   },
   "file_extension": ".py",
   "mimetype": "text/x-python",
   "name": "python",
   "nbconvert_exporter": "python",
   "pygments_lexer": "ipython3",
   "version": "3.10.6"
  },
  "vscode": {
   "interpreter": {
    "hash": "aedb3b521ec5d68994bd70efceab6282beb9dfca515a5017356d72a3f1833f8f"
   }
  }
 },
 "nbformat": 4,
 "nbformat_minor": 4
}
